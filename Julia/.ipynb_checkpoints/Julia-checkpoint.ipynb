{
 "cells": [
  {
   "cell_type": "code",
   "execution_count": 12,
   "metadata": {
    "ExecuteTime": {
     "end_time": "2022-04-15T10:12:33.891000+09:00",
     "start_time": "2022-04-15T01:12:04.708Z"
    }
   },
   "outputs": [
    {
     "name": "stderr",
     "output_type": "stream",
     "text": [
      "\u001b[32m\u001b[1m   Resolving\u001b[22m\u001b[39m package versions...\n",
      "\u001b[32m\u001b[1m  No Changes\u001b[22m\u001b[39m to `C:\\Users\\00006363\\.julia\\environments\\v1.7\\Project.toml`\n",
      "\u001b[32m\u001b[1m  No Changes\u001b[22m\u001b[39m to `C:\\Users\\00006363\\.julia\\environments\\v1.7\\Manifest.toml`\n",
      "\u001b[32m\u001b[1m   Resolving\u001b[22m\u001b[39m package versions...\n",
      "\u001b[32m\u001b[1m  No Changes\u001b[22m\u001b[39m to `C:\\Users\\00006363\\.julia\\environments\\v1.7\\Project.toml`\n",
      "\u001b[32m\u001b[1m  No Changes\u001b[22m\u001b[39m to `C:\\Users\\00006363\\.julia\\environments\\v1.7\\Manifest.toml`\n",
      "\u001b[32m\u001b[1m   Resolving\u001b[22m\u001b[39m package versions...\n",
      "\u001b[32m\u001b[1m    Updating\u001b[22m\u001b[39m `C:\\Users\\00006363\\.julia\\environments\\v1.7\\Project.toml`\n",
      " \u001b[90m [a93c6f00] \u001b[39m\u001b[92m+ DataFrames v1.3.2\u001b[39m\n",
      "\u001b[32m\u001b[1m    Updating\u001b[22m\u001b[39m `C:\\Users\\00006363\\.julia\\environments\\v1.7\\Manifest.toml`\n",
      " \u001b[90m [a8cc5b0e] \u001b[39m\u001b[92m+ Crayons v4.1.1\u001b[39m\n",
      " \u001b[90m [a93c6f00] \u001b[39m\u001b[92m+ DataFrames v1.3.2\u001b[39m\n",
      " \u001b[90m [59287772] \u001b[39m\u001b[92m+ Formatting v0.4.2\u001b[39m\n",
      " \u001b[90m [41ab1584] \u001b[39m\u001b[92m+ InvertedIndices v1.1.0\u001b[39m\n",
      " \u001b[90m [08abe8d2] \u001b[39m\u001b[92m+ PrettyTables v1.3.1\u001b[39m\n",
      "\u001b[32m\u001b[1mPrecompiling\u001b[22m\u001b[39m project...\n",
      "\u001b[32m  ✓ \u001b[39m\u001b[90mInvertedIndices\u001b[39m\n",
      "\u001b[32m  ✓ \u001b[39m\u001b[90mFormatting\u001b[39m\n",
      "\u001b[32m  ✓ \u001b[39m\u001b[90mCrayons\u001b[39m\n",
      "\u001b[32m  ✓ \u001b[39m\u001b[90mPrettyTables\u001b[39m\n",
      "\u001b[32m  ✓ \u001b[39mDataFrames\n",
      "  5 dependencies successfully precompiled in 25 seconds (75 already precompiled)\n"
     ]
    }
   ],
   "source": [
    "using Pkg\n",
    "\n",
    "Pkg.add(\"CSV\")\n",
    "Pkg.add(\"XLSX\")\n",
    "Pkg.add(\"DataFrames\")"
   ]
  },
  {
   "cell_type": "code",
   "execution_count": 4,
   "metadata": {
    "ExecuteTime": {
     "end_time": "2022-04-15T10:40:19.834000+09:00",
     "start_time": "2022-04-15T01:40:18.431Z"
    }
   },
   "outputs": [],
   "source": [
    "using CSV, XLSX, DataFrames"
   ]
  },
  {
   "cell_type": "code",
   "execution_count": 29,
   "metadata": {
    "ExecuteTime": {
     "end_time": "2022-04-15T10:31:34.333000+09:00",
     "start_time": "2022-04-15T01:31:34.327Z"
    }
   },
   "outputs": [
    {
     "data": {
      "text/plain": [
       "28×2 XLSX.Worksheet: [\"Sheet1\"](A1:B28) "
      ]
     },
     "execution_count": 29,
     "metadata": {},
     "output_type": "execute_result"
    }
   ],
   "source": [
    "xf = XLSX.readxlsx(\"D:/부의.xlsx\")\n",
    "XLSX.sheetnames(xf)\n",
    "sh = xf[\"Sheet1\"]"
   ]
  },
  {
   "cell_type": "code",
   "execution_count": 31,
   "metadata": {
    "ExecuteTime": {
     "end_time": "2022-04-15T10:31:37.767000+09:00",
     "start_time": "2022-04-15T01:31:37.203Z"
    }
   },
   "outputs": [
    {
     "data": {
      "text/plain": [
       "28×2 Matrix{Any}:\n",
       " \"정인웅\"    missing\n",
       " \"김여경\"    missing\n",
       " \"유승호\"    missing\n",
       " \"김효진\"    missing\n",
       " \"함태진\"    missing\n",
       " \"박인수\"    missing\n",
       " \"임채현\"    missing\n",
       " \"김영철\"  10\n",
       " \"이동신\"    missing\n",
       " \"김석희\"    missing\n",
       " \"임정섭\"    missing\n",
       " \"김관빈\"    missing\n",
       " \"정제우\"    missing\n",
       " ⋮      \n",
       " \"김기문\"    missing\n",
       " \"백승환\"    missing\n",
       " \"김찬\"     missing\n",
       " \"한우주\"    missing\n",
       " \"허민\"     missing\n",
       " \"김형석\"  10\n",
       " \"강충모\"    missing\n",
       " \"노관종\"    missing\n",
       " \"정형호\"    missing\n",
       " \"김은중\"  10\n",
       " \"고영호\"  10\n",
       " \"이선영\"    missing"
      ]
     },
     "execution_count": 31,
     "metadata": {},
     "output_type": "execute_result"
    }
   ],
   "source": [
    "sh[:]"
   ]
  },
  {
   "cell_type": "code",
   "execution_count": 14,
   "metadata": {
    "ExecuteTime": {
     "end_time": "2022-04-15T10:44:58.954000+09:00",
     "start_time": "2022-04-15T01:44:58.815Z"
    }
   },
   "outputs": [
    {
     "data": {
      "text/html": [
       "<div class=\"data-frame\"><p>223 rows × 8 columns (omitted printing of 3 columns)</p><table class=\"data-frame\"><thead><tr><th></th><th>회계단위코드</th><th>비고</th><th>회계단위</th><th>재료비</th><th>노무비</th></tr><tr><th></th><th title=\"Union{Missing, String}\">String?</th><th title=\"Union{Missing, String}\">String?</th><th title=\"Union{Missing, String}\">String?</th><th title=\"Int64\">Int64</th><th title=\"Int64\">Int64</th></tr></thead><tbody><tr><th>1</th><td>A006</td><td>A006</td><td>천호 주상복합</td><td>0</td><td>0</td></tr><tr><th>2</th><td>A017</td><td>A017</td><td>주문진 주상복합</td><td>0</td><td>0</td></tr><tr><th>3</th><td>A344</td><td>A344</td><td>평촌더샵IPARK</td><td>0</td><td>0</td></tr><tr><th>4</th><td>A486</td><td>A486</td><td>송파 헬리오시티</td><td>0</td><td>0</td></tr><tr><th>5</th><td>A683</td><td>A683</td><td>강릉 아산병원 증축공사</td><td>0</td><td>0</td></tr><tr><th>6</th><td>A699</td><td>A699</td><td>울산약사 I&apos;PARK</td><td>0</td><td>0</td></tr><tr><th>7</th><td>A702</td><td>A702</td><td>부산명륜 I&apos;PARK</td><td>0</td><td>0</td></tr><tr><th>8</th><td>A710</td><td>A710</td><td>역삼 센트럴IPARK(개나리4차아파트)</td><td>21305754971</td><td>1717120541</td></tr><tr><th>9</th><td>A748</td><td>A748</td><td>공덕 I&apos; PARK</td><td>0</td><td>0</td></tr><tr><th>10</th><td>A751</td><td>A751</td><td>부천 I&apos;PARK</td><td>0</td><td>0</td></tr><tr><th>11</th><td>A755</td><td>A755</td><td>가재울 4구역</td><td>0</td><td>0</td></tr><tr><th>12</th><td>A779</td><td>A779</td><td>김해 삼계구산 I&apos;PARK 신축공사</td><td>0</td><td>0</td></tr><tr><th>13</th><td>A787</td><td>A787</td><td>안산신길지구 B5BL</td><td>0</td><td>0</td></tr><tr><th>14</th><td>A792</td><td>A792</td><td>제주 노형2차  I&apos;PARK</td><td>0</td><td>0</td></tr><tr><th>15</th><td>A806</td><td>A806</td><td>포천연천국방부BTL</td><td>0</td><td>0</td></tr><tr><th>16</th><td>A807</td><td>A807</td><td>창원자은3 S2BL 아파트1공구</td><td>0</td><td>0</td></tr><tr><th>17</th><td>A809</td><td>A809</td><td>군산 미장지구 A2BL</td><td>0</td><td>0</td></tr><tr><th>18</th><td>A810</td><td>A810</td><td>송파 아이파크 오피스텔</td><td>0</td><td>0</td></tr><tr><th>19</th><td>A813</td><td>A813</td><td>논산내동2 B1BL아파트 건설 2공구</td><td>0</td><td>0</td></tr><tr><th>20</th><td>A819</td><td>A819</td><td>남양주 별내지구 A2-1BL</td><td>0</td><td>0</td></tr><tr><th>21</th><td>A823</td><td>A823</td><td>위례신도시 C1-2BL</td><td>0</td><td>0</td></tr><tr><th>22</th><td>A824</td><td>A824</td><td>위례신도시 C1-3BL</td><td>0</td><td>0</td></tr><tr><th>23</th><td>A831</td><td>A831</td><td>아현 I PARK</td><td>0</td><td>0</td></tr><tr><th>24</th><td>C004</td><td>C004</td><td>마곡IPARK</td><td>0</td><td>0</td></tr><tr><th>25</th><td>C005</td><td>C005</td><td>백석3차IPARK</td><td>0</td><td>0</td></tr><tr><th>26</th><td>C006</td><td>C006</td><td>광주태전IPARK</td><td>0</td><td>0</td></tr><tr><th>27</th><td>C007</td><td>C007</td><td>갈매역IPARK</td><td>0</td><td>0</td></tr><tr><th>28</th><td>C008</td><td>C008</td><td>복산IPARK</td><td>0</td><td>0</td></tr><tr><th>29</th><td>C009</td><td>C009</td><td>포천IPARK</td><td>0</td><td>0</td></tr><tr><th>30</th><td>C010</td><td>C010</td><td>미장2차IPARK</td><td>0</td><td>0</td></tr><tr><th>&vellip;</th><td>&vellip;</td><td>&vellip;</td><td>&vellip;</td><td>&vellip;</td><td>&vellip;</td></tr></tbody></table></div>"
      ],
      "text/latex": [
       "\\begin{tabular}{r|cccccc}\n",
       "\t& 회계단위코드 & 비고 & 회계단위 & 재료비 & 노무비 & \\\\\n",
       "\t\\hline\n",
       "\t& String? & String? & String? & Int64 & Int64 & \\\\\n",
       "\t\\hline\n",
       "\t1 & A006 & A006 & 천호 주상복합 & 0 & 0 & $\\dots$ \\\\\n",
       "\t2 & A017 & A017 & 주문진 주상복합 & 0 & 0 & $\\dots$ \\\\\n",
       "\t3 & A344 & A344 & 평촌더샵IPARK & 0 & 0 & $\\dots$ \\\\\n",
       "\t4 & A486 & A486 & 송파 헬리오시티 & 0 & 0 & $\\dots$ \\\\\n",
       "\t5 & A683 & A683 & 강릉 아산병원 증축공사 & 0 & 0 & $\\dots$ \\\\\n",
       "\t6 & A699 & A699 & 울산약사 I'PARK & 0 & 0 & $\\dots$ \\\\\n",
       "\t7 & A702 & A702 & 부산명륜 I'PARK & 0 & 0 & $\\dots$ \\\\\n",
       "\t8 & A710 & A710 & 역삼 센트럴IPARK(개나리4차아파트) & 21305754971 & 1717120541 & $\\dots$ \\\\\n",
       "\t9 & A748 & A748 & 공덕 I' PARK & 0 & 0 & $\\dots$ \\\\\n",
       "\t10 & A751 & A751 & 부천 I'PARK & 0 & 0 & $\\dots$ \\\\\n",
       "\t11 & A755 & A755 & 가재울 4구역 & 0 & 0 & $\\dots$ \\\\\n",
       "\t12 & A779 & A779 & 김해 삼계구산 I'PARK 신축공사 & 0 & 0 & $\\dots$ \\\\\n",
       "\t13 & A787 & A787 & 안산신길지구 B5BL & 0 & 0 & $\\dots$ \\\\\n",
       "\t14 & A792 & A792 & 제주 노형2차  I'PARK & 0 & 0 & $\\dots$ \\\\\n",
       "\t15 & A806 & A806 & 포천연천국방부BTL & 0 & 0 & $\\dots$ \\\\\n",
       "\t16 & A807 & A807 & 창원자은3 S2BL 아파트1공구 & 0 & 0 & $\\dots$ \\\\\n",
       "\t17 & A809 & A809 & 군산 미장지구 A2BL & 0 & 0 & $\\dots$ \\\\\n",
       "\t18 & A810 & A810 & 송파 아이파크 오피스텔 & 0 & 0 & $\\dots$ \\\\\n",
       "\t19 & A813 & A813 & 논산내동2 B1BL아파트 건설 2공구 & 0 & 0 & $\\dots$ \\\\\n",
       "\t20 & A819 & A819 & 남양주 별내지구 A2-1BL & 0 & 0 & $\\dots$ \\\\\n",
       "\t21 & A823 & A823 & 위례신도시 C1-2BL & 0 & 0 & $\\dots$ \\\\\n",
       "\t22 & A824 & A824 & 위례신도시 C1-3BL & 0 & 0 & $\\dots$ \\\\\n",
       "\t23 & A831 & A831 & 아현 I PARK & 0 & 0 & $\\dots$ \\\\\n",
       "\t24 & C004 & C004 & 마곡IPARK & 0 & 0 & $\\dots$ \\\\\n",
       "\t25 & C005 & C005 & 백석3차IPARK & 0 & 0 & $\\dots$ \\\\\n",
       "\t26 & C006 & C006 & 광주태전IPARK & 0 & 0 & $\\dots$ \\\\\n",
       "\t27 & C007 & C007 & 갈매역IPARK & 0 & 0 & $\\dots$ \\\\\n",
       "\t28 & C008 & C008 & 복산IPARK & 0 & 0 & $\\dots$ \\\\\n",
       "\t29 & C009 & C009 & 포천IPARK & 0 & 0 & $\\dots$ \\\\\n",
       "\t30 & C010 & C010 & 미장2차IPARK & 0 & 0 & $\\dots$ \\\\\n",
       "\t$\\dots$ & $\\dots$ & $\\dots$ & $\\dots$ & $\\dots$ & $\\dots$ &  \\\\\n",
       "\\end{tabular}\n"
      ],
      "text/plain": [
       "\u001b[1m223×8 DataFrame\u001b[0m\n",
       "\u001b[1m Row \u001b[0m│\u001b[1m 회계단위코드 \u001b[0m\u001b[1m 비고    \u001b[0m\u001b[1m 회계단위                          \u001b[0m\u001b[1m 재료비       \u001b[0m\u001b[1m\u001b[0m ⋯\n",
       "\u001b[1m     \u001b[0m│\u001b[90m String?      \u001b[0m\u001b[90m String? \u001b[0m\u001b[90m String?                           \u001b[0m\u001b[90m Int64        \u001b[0m\u001b[90m\u001b[0m ⋯\n",
       "─────┼──────────────────────────────────────────────────────────────────────────\n",
       "   1 │ A006          A006     천호 주상복합                                 0  ⋯\n",
       "   2 │ A017          A017     주문진 주상복합                               0\n",
       "   3 │ A344          A344     평촌더샵IPARK                                 0\n",
       "   4 │ A486          A486     송파 헬리오시티                               0\n",
       "   5 │ A683          A683     강릉 아산병원 증축공사                        0  ⋯\n",
       "   6 │ A699          A699     울산약사 I'PARK                               0\n",
       "   7 │ A702          A702     부산명륜 I'PARK                               0\n",
       "   8 │ A710          A710     역삼 센트럴IPARK(개나리4차아파트)   21305754971\n",
       "   9 │ A748          A748     공덕 I' PARK                                  0  ⋯\n",
       "  10 │ A751          A751     부천 I'PARK                                   0\n",
       "  11 │ A755          A755     가재울 4구역                                  0\n",
       "  ⋮  │      ⋮           ⋮                     ⋮                       ⋮        ⋱\n",
       " 214 │ ZQ267         ZQ267    고속국도 제40호선 음성-충주(3공 …             0\n",
       " 215 │ ZQ280         ZQ280    서울지하철9호선2단계916공구                   0  ⋯\n",
       " 216 │ ZQ285         ZQ285    남양주지역 전기공급시설 전력구( …             0\n",
       " 217 │ ZQ296         ZQ296    경인고속도로 직선화 건설공사(3공…             0\n",
       " 218 │ ZQ301         ZQ301    낙동강살리기사업 33공구 (상주지 …             0\n",
       " 219 │ ZQ305         ZQ305    호남고속철도 제3-4공구 노반신설 …             0  ⋯\n",
       " 220 │ ZQ315         ZQ315    수서-평택4공구                                0\n",
       " 221 │ ZQ327         ZQ327    수도권고속철도(수서~평택)제6-2공…             0\n",
       " 222 │ ZR027         ZR027    화정면 도서지역 상수도3공구(하자)             0\n",
       " 223 │\u001b[90m missing      \u001b[0m\u001b[90m missing \u001b[0m\u001b[90m missing                           \u001b[0m 938097096049  ⋯\n",
       "\u001b[36m                                                  4 columns and 202 rows omitted\u001b[0m"
      ]
     },
     "execution_count": 14,
     "metadata": {},
     "output_type": "execute_result"
    }
   ],
   "source": [
    "df = DataFrame(XLSX.readtable(\"D:/계정별명세서조회_20220128_원가명세서(최종).xlsx\", \"sheet1\", infer_eltypes=true)...)"
   ]
  },
  {
   "cell_type": "code",
   "execution_count": 15,
   "metadata": {
    "ExecuteTime": {
     "end_time": "2022-04-15T10:45:05.855000+09:00",
     "start_time": "2022-04-15T01:45:05.742Z"
    }
   },
   "outputs": [
    {
     "data": {
      "text/plain": [
       "30×4 Matrix{Any}:\n",
       " \"비고\"    \"회계단위\"                              \"재료비\"            \"노무비\"\n",
       " \"A006\"  \"천호 주상복합\"                          0                0\n",
       " \"A017\"  \"주문진 주상복합\"                         0                0\n",
       " \"A344\"  \"평촌더샵IPARK\"                        0                0\n",
       " \"A486\"  \"송파 헬리오시티\"                         0                0\n",
       " \"A683\"  \"강릉 아산병원 증축공사\"                     0                0\n",
       " \"A699\"  \"울산약사 I'PARK\"                      0                0\n",
       " \"A702\"  \"부산명륜 I'PARK\"                      0                0\n",
       " \"A710\"  \"역삼 센트럴IPARK(개나리4차아파트)\"  21305754971       1717120541\n",
       " \"A748\"  \"공덕 I' PARK\"                       0                0\n",
       " \"A751\"  \"부천 I'PARK\"                        0                0\n",
       " \"A755\"  \"가재울 4구역\"                          0                0\n",
       " \"A779\"  \"김해 삼계구산 I'PARK 신축공사\"              0                0\n",
       " ⋮                                                  \n",
       " \"A810\"  \"송파 아이파크 오피스텔\"                     0                0\n",
       " \"A813\"  \"논산내동2 B1BL아파트 건설 2공구\"             0                0\n",
       " \"A819\"  \"남양주 별내지구 A2-1BL\"                  0                0\n",
       " \"A823\"  \"위례신도시 C1-2BL\"                     0                0\n",
       " \"A824\"  \"위례신도시 C1-3BL\"                     0                0\n",
       " \"A831\"  \"아현 I PARK\"                        0                0\n",
       " \"C004\"  \"마곡IPARK\"                          0                0\n",
       " \"C005\"  \"백석3차IPARK\"                        0                0\n",
       " \"C006\"  \"광주태전IPARK\"                        0                0\n",
       " \"C007\"  \"갈매역IPARK\"                         0                0\n",
       " \"C008\"  \"복산IPARK\"                          0                0\n",
       " \"C009\"  \"포천IPARK\"                          0                0"
      ]
     },
     "execution_count": 15,
     "metadata": {},
     "output_type": "execute_result"
    }
   ],
   "source": [
    "jm = XLSX.readdata(\"D:/계정별명세서조회_20220128_원가명세서(최종).xlsx\", \"sheet1!B1:E30\")"
   ]
  },
  {
   "cell_type": "code",
   "execution_count": null,
   "metadata": {
    "ExecuteTime": {
     "start_time": "2022-04-15T04:47:40.084Z"
    }
   },
   "outputs": [],
   "source": [
    "using Pkg\n",
    "\n",
    "Pkg.add(\"Plots\")\n",
    "Pkg.add(\"PyPlot\")\n",
    "using PyPlot, Plots"
   ]
  },
  {
   "cell_type": "code",
   "execution_count": null,
   "metadata": {},
   "outputs": [],
   "source": []
  }
 ],
 "metadata": {
  "kernelspec": {
   "display_name": "Julia 1.7.2",
   "language": "julia",
   "name": "julia-1.7"
  },
  "language_info": {
   "file_extension": ".jl",
   "mimetype": "application/julia",
   "name": "julia",
   "version": "1.7.2"
  },
  "toc": {
   "base_numbering": 1,
   "nav_menu": {},
   "number_sections": true,
   "sideBar": true,
   "skip_h1_title": false,
   "title_cell": "Table of Contents",
   "title_sidebar": "Contents",
   "toc_cell": false,
   "toc_position": {},
   "toc_section_display": true,
   "toc_window_display": false
  }
 },
 "nbformat": 4,
 "nbformat_minor": 2
}
